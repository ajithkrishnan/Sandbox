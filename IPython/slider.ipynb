{
 "cells": [
  {
   "cell_type": "code",
   "execution_count": null,
   "metadata": {},
   "outputs": [],
   "source": [
    "from ipywidgets import interact\n",
    "\n",
    "# my FloatSlider returns an ipywidgets.FloatSlider with\n",
    "# continuous_update=False. Filtering code runs too slowly\n",
    "# to instantly react to slider changes.\n",
    "from kf_book.book_plots import FloatSlider\n",
    "\n",
    "zs1 = gen_data(x0=5, dx=5., count=100, noise_factor=50)\n",
    "\n",
    "fig = None\n",
    "def interactive_gh(x, dx, g, h):\n",
    "    global fig\n",
    "    if fig is not None: plt.close(fig)\n",
    "    fig = plt.figure()\n",
    "    data = g_h_filter(data=zs1, x0=x, dx=dx, g=g, h=h)\n",
    "    plt.scatter(range(len(zs1)), zs1, edgecolor='k', \n",
    "                facecolors='none', marker='o', lw=1)\n",
    "    plt.plot(data, color='b')\n",
    "\n",
    "interact(interactive_gh,           \n",
    "         x=FloatSlider(value=0, min=-200, max=200), \n",
    "         dx=FloatSlider(value=5, min=-50, max=50), \n",
    "         g=FloatSlider(value=.1, min=.01, max=2, step=.02), \n",
    "         h=FloatSlider(value=.02, min=.0, max=.5, step=.01));"
   ]
  }
 ],
 "metadata": {
  "kernelspec": {
   "display_name": "Python 3",
   "language": "python",
   "name": "python3"
  },
  "language_info": {
   "codemirror_mode": {
    "name": "ipython",
    "version": 3
   },
   "file_extension": ".py",
   "mimetype": "text/x-python",
   "name": "python",
   "nbconvert_exporter": "python",
   "pygments_lexer": "ipython3",
   "version": "3.6.9"
  }
 },
 "nbformat": 4,
 "nbformat_minor": 2
}
